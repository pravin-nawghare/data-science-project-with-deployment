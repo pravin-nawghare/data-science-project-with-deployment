{
 "cells": [
  {
   "cell_type": "code",
   "execution_count": 1,
   "id": "5354bd47",
   "metadata": {},
   "outputs": [],
   "source": [
    "import os"
   ]
  },
  {
   "cell_type": "code",
   "execution_count": 4,
   "id": "5ae7e714",
   "metadata": {},
   "outputs": [
    {
     "data": {
      "text/plain": [
       "'d:\\\\MLOps Projects\\\\data-science-project-with-deployment'"
      ]
     },
     "execution_count": 4,
     "metadata": {},
     "output_type": "execute_result"
    }
   ],
   "source": [
    "%pwd\n",
    "os.chdir('../')\n",
    "%pwd"
   ]
  },
  {
   "cell_type": "code",
   "execution_count": 10,
   "id": "04db49b6",
   "metadata": {},
   "outputs": [],
   "source": [
    "from dataclasses import dataclass\n",
    "from pathlib import Path\n",
    "\n",
    "@dataclass\n",
    "class DataIngestionConfig:\n",
    "    root_dir: Path\n",
    "    source_url: str\n",
    "    local_data_file: Path\n",
    "    unzip_dir: Path"
   ]
  },
  {
   "cell_type": "code",
   "execution_count": 19,
   "id": "9f66be83",
   "metadata": {},
   "outputs": [],
   "source": [
    "from src.mlopsproject.constants import CONFIG_FILE_PATH, SCHEMA_FILE_PATH, PARMAS_FILE_PATH # every thing from file gets imported \n",
    "from src.mlopsproject.utils.common import read_yaml, create_directories\n",
    "from src.mlopsproject import logger"
   ]
  },
  {
   "cell_type": "code",
   "execution_count": 33,
   "id": "115aa155",
   "metadata": {},
   "outputs": [],
   "source": [
    "class ConfigurationManager:\n",
    "    def __init__(self,\n",
    "                config_file_path=CONFIG_FILE_PATH,\n",
    "                schema_file_path=SCHEMA_FILE_PATH,\n",
    "                params_file_path=PARMAS_FILE_PATH):\n",
    "        self.config = read_yaml(config_file_path)\n",
    "        self.schema = read_yaml(schema_file_path)\n",
    "        self.params = read_yaml(params_file_path)\n",
    "\n",
    "        create_directories([self.config.artifacts_root])\n",
    "    \n",
    "    def get_data_ingestion_config(self) -> DataIngestionConfig:\n",
    "        config = self.config.data_ingestion\n",
    "        create_directories([config.root_dir])\n",
    "\n",
    "        data_ingestion_config = DataIngestionConfig(\n",
    "            root_dir = config.root_dir,\n",
    "            source_url = config.source_url,\n",
    "            local_data_file = config.local_data_file,\n",
    "            unzip_dir = config.unzip_dir\n",
    "        )\n",
    "\n",
    "        return data_ingestion_config"
   ]
  },
  {
   "cell_type": "code",
   "execution_count": 16,
   "id": "09460a7e",
   "metadata": {},
   "outputs": [],
   "source": [
    "import urllib.request as request\n",
    "import zipfile"
   ]
  },
  {
   "cell_type": "code",
   "execution_count": 37,
   "id": "b5a53b91",
   "metadata": {},
   "outputs": [],
   "source": [
    "# data ingestion component\n",
    "\n",
    "class DataIngestion:\n",
    "    def __init__(self, config:DataIngestionConfig):\n",
    "        self.config=config\n",
    "\n",
    "    # downloading the zip file\n",
    "    def download_file(self):\n",
    "        if not os.path.exists(self.config.local_data_file):\n",
    "            filename, headers = request.urlretrieve(\n",
    "                url = self.config.source_url,\n",
    "                filename = self.config.local_data_file\n",
    "            )\n",
    "            logger.info(f\"{filename} download with following info: \\n{headers}\")\n",
    "        else:\n",
    "            logger.info(f\"File already downloaded\")\n",
    "        \n",
    "    def extract_zip_file(self):\n",
    "        \"\"\"\n",
    "        zip_file_path = str\n",
    "        extracts the zip file into unzip directory\n",
    "        function return None\n",
    "        \"\"\"\n",
    "        unzip_path = self.config.unzip_dir\n",
    "        os.makedirs(unzip_path, exist_ok=True)\n",
    "        with zipfile.ZipFile(self.config.local_data_file, \"r\") as zip_ref:\n",
    "            zip_ref.extractall(unzip_path)"
   ]
  },
  {
   "cell_type": "code",
   "execution_count": 38,
   "id": "35d4eca0",
   "metadata": {},
   "outputs": [
    {
     "name": "stdout",
     "output_type": "stream",
     "text": [
      "[2025-09-12 16:35:48,881: common: yaml file: <_io.TextIOWrapper name='config\\\\config.yaml' mode='r' encoding='utf-8'> loaded successfully]\n",
      "[2025-09-12 16:35:48,886: common: yaml file: <_io.TextIOWrapper name='schema.yaml' mode='r' encoding='utf-8'> loaded successfully]\n",
      "[2025-09-12 16:35:48,889: common: yaml file: <_io.TextIOWrapper name='params.yaml' mode='r' encoding='utf-8'> loaded successfully]\n",
      "[2025-09-12 16:35:48,890: common: created directory at: artifacts]\n",
      "[2025-09-12 16:35:48,891: common: created directory at: artifacts/data_ingestion]\n",
      "[2025-09-12 16:35:48,891: 2973859658: File already downloaded]\n"
     ]
    }
   ],
   "source": [
    "try:\n",
    "    config = ConfigurationManager()\n",
    "    data_ingestion_config = config.get_data_ingestion_config()\n",
    "    data_ingestion =DataIngestion(config=data_ingestion_config)\n",
    "    data_ingestion.download_file()\n",
    "    data_ingestion.extract_zip_file()\n",
    "except Exception as e:\n",
    "    raise e"
   ]
  },
  {
   "cell_type": "code",
   "execution_count": null,
   "id": "3c566b3c",
   "metadata": {},
   "outputs": [],
   "source": []
  }
 ],
 "metadata": {
  "kernelspec": {
   "display_name": "udemy-project",
   "language": "python",
   "name": "python3"
  },
  "language_info": {
   "codemirror_mode": {
    "name": "ipython",
    "version": 3
   },
   "file_extension": ".py",
   "mimetype": "text/x-python",
   "name": "python",
   "nbconvert_exporter": "python",
   "pygments_lexer": "ipython3",
   "version": "3.12.0"
  }
 },
 "nbformat": 4,
 "nbformat_minor": 5
}
